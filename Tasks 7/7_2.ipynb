{
 "cells": [
  {
   "cell_type": "code",
   "execution_count": null,
   "metadata": {},
   "outputs": [],
   "source": [
    "def f(matrix):\n",
    "    transposed_matrix = []\n",
    "    for i in range(len(matrix)):\n",
    "        transposed_matrix.append([])\n",
    "        for j in range(len(matrix)):\n",
    "            transposed_matrix[i].append(matrix[len(matrix) - 1 - i][j])\n",
    "    print(transposed_matrix)\n",
    "\n",
    "    reversed_matrix = []\n",
    "    for i in range(len(matrix)):\n",
    "        reversed_matrix.append([])\n",
    "        for g in range(len(matrix)):\n",
    "            reversed_matrix[i].append(transposed_matrix[g][i])\n",
    "    return reversed_matrix\n",
    "\n",
    "\n",
    "if __name__ == \"__main__\":\n",
    "    print(f([[1, 2, 3, 4],[5, 6, 7, 8], [9, 10, 11, 12], [13, 14, 15, 16]]))"
   ]
  }
 ],
 "metadata": {
  "language_info": {
   "name": "python"
  },
  "orig_nbformat": 4
 },
 "nbformat": 4,
 "nbformat_minor": 2
}
