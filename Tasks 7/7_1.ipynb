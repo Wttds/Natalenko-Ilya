def main():
    banks = []                                                                      # Создание списка банков
    num_of_banks = int(input())
    names = input().split()
    sums = input().split()
    for i in range(num_of_banks):
        banks.append((names[i], i, int(sums[i])))

    bin_nums = []                                                                   # Варианты ходов в бинарном виде
    for i in range(2 ** num_of_banks):
        binary = format(i, "b")
        while len(binary) < num_of_banks:
            binary = '0' + binary
        if '11' not in binary and '000' not in binary and '1' in binary and \
                not binary.startswith('00') and not binary.endswith('00'):
            bin_nums.append(binary)

    max_b = []
    max_i = []
    max_s = 0
    for combination in bin_nums:
        chosen_b = []
        chosen_i = []
        chosen_s = 0
        for digit in range(len(combination)):
            if combination[digit] == '1':
                chosen_b.append(banks[digit][0])
                chosen_i.append(banks[digit][1])
                chosen_s += banks[digit][2]
        if chosen_s > max_s:
            max_b, max_i, max_s = chosen_b[:], chosen_i[:], chosen_s
    print(max_b, max_i, max_s, sep='\n')


if __name__ == "__main__":
    main()
