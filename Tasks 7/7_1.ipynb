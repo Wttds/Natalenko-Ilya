{
 "cells": [
  {
   "cell_type": "code",
   "execution_count": null,
   "metadata": {},
   "outputs": [],
   "source": [
    "def main():\n",
    "    banks = []                                                                      # Создание списка банков\n",
    "    num_of_banks = int(input())\n",
    "    names = input().split()\n",
    "    sums = input().split()\n",
    "    for i in range(num_of_banks):\n",
    "        banks.append((names[i], i, int(sums[i])))\n",
    "\n",
    "    bin_nums = []                                                                   # Варианты ходов в бинарном виде\n",
    "    for i in range(2 ** num_of_banks):\n",
    "        binary = format(i, \"b\")\n",
    "        while len(binary) < num_of_banks:\n",
    "            binary = '0' + binary\n",
    "        if '11' not in binary and '000' not in binary and '1' in binary and \\\n",
    "                not binary.startswith('00') and not binary.endswith('00'):\n",
    "            bin_nums.append(binary)\n",
    "\n",
    "    max_b = []\n",
    "    max_i = []\n",
    "    max_s = 0\n",
    "    for combination in bin_nums:\n",
    "        chosen_b = []\n",
    "        chosen_i = []\n",
    "        chosen_s = 0\n",
    "        for digit in range(len(combination)):\n",
    "            if combination[digit] == '1':\n",
    "                chosen_b.append(banks[digit][0])\n",
    "                chosen_i.append(banks[digit][1])\n",
    "                chosen_s += banks[digit][2]\n",
    "        if chosen_s > max_s:\n",
    "            max_b, max_i, max_s = chosen_b[:], chosen_i[:], chosen_s\n",
    "    print(max_b, max_i, max_s, sep='\\n')\n",
    "\n",
    "\n",
    "if __name__ == \"__main__\":\n",
    "    main()"
   ]
  }
 ],
 "metadata": {
  "language_info": {
   "name": "python"
  },
  "orig_nbformat": 4
 },
 "nbformat": 4,
 "nbformat_minor": 2
}
