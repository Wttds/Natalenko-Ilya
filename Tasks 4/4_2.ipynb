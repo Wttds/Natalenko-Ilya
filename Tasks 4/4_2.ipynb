{
 "cells": [
  {
   "cell_type": "code",
   "execution_count": null,
   "metadata": {},
   "outputs": [],
   "source": [
    "def main():\n",
    "    number = int(input())\n",
    "    if number % 100 == 0:\n",
    "        number //= 100\n",
    "    if number % 10 == 0:\n",
    "        number //= 10\n",
    "    if number >= 0:\n",
    "        out_number = str(number)[::-1]\n",
    "    else:\n",
    "        out_number = '-' + str(abs(number))[::-1]\n",
    "    if -(2 ** 7) <= out_number <= 2 ** 7 - 1:\n",
    "        print(out_number)\n",
    "    else:\n",
    "        print(\"no solution\")\n",
    "\n",
    "\n",
    "if __name__ == \"__main__\":\n",
    "    main()"
   ]
  }
 ],
 "metadata": {
  "language_info": {
   "name": "python"
  },
  "orig_nbformat": 4
 },
 "nbformat": 4,
 "nbformat_minor": 2
}
