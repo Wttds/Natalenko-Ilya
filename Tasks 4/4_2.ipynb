{
 "cells": [
  {
   "cell_type": "code",
   "execution_count": null,
   "metadata": {},
   "outputs": [],
   "source": [
    "def main():\n",
    "    number = int(input())\n",
    "    if number % 100 == 0:\n",
    "        number //= 100\n",
    "    if number % 10 == 0:\n",
    "        number //= 10\n",
    "    if number >= 0:\n",
    "        out_number = str(number)[::-1]\n",
    "    else:\n",
    "        out_number = '-' + str(abs(number))[::-1]\n",
    "    if -(2 ** 7) <= int(out_number) <= 2 ** 7 - 1:\n",
    "        print(out_number)\n",
    "    else:\n",
    "        print(\"no solution\")\n",
    "\n",
    "\n",
    "if __name__ == \"__main__\":\n",
    "    main()"
   ]
  }
 ],
 "metadata": {
  "kernelspec": {
   "display_name": "Python 3",
   "language": "python",
   "name": "python3"
  },
  "language_info": {
   "name": "python",
   "version": "3.8.5 (tags/v3.8.5:580fbb0, Jul 20 2020, 15:43:08) [MSC v.1926 32 bit (Intel)]"
  },
  "orig_nbformat": 4,
  "vscode": {
   "interpreter": {
    "hash": "fd86f4a68d20d86dfc27505d8d4d1402f343a263f027f15df3b495dbc5bd8339"
   }
  }
 },
 "nbformat": 4,
 "nbformat_minor": 2
}
