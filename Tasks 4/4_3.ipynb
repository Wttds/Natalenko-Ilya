def main():
    string = input()
    number = int(input())
    output = ""
    differ = (number - 3) * 2 + 4
    start_inds = list(filter(lambda x: x % differ == 0, list(range(len(string)))))
    added = []
    for s in range(number):
        for i in range(len(string)):               # 3: 0-4-8-12  1-3-5-7-9-11  2-6-10 (4)
            if i in start_inds and i not in added: # 4: 0-6-12  1-5-7-11  2-4-8-10  3-9 (6)
                output += string[i]
                added.append(i)

        temp_list = []
        for n in range(len(string)):
            if n + 1 in start_inds and n not in added:
                temp_list.append(n)
            elif n - 1 in start_inds and n not in added:
                temp_list.append(n)
        start_inds = temp_list[:]
    print(output)


if __name__ == "__main__":
    main()
