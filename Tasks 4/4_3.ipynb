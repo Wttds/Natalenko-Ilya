def main():
    string = input()
    number = int(input())
    output = ""
    differ = (number - 3) * 2 + 4
    start_inds = list(filter(lambda x: x % differ == 0, list(range(len(string)))))
    added = []
    for s in range(number):
        for i in range(len(string)):
            if i in start_inds and i not in added:
                output += string[i]
                added.append(i)

        temp_list = []
        for n in range(len(string)):
            if n + 1 in start_inds and n not in added:
                temp_list.append(n)
            elif n - 1 in start_inds and n not in added:
                temp_list.append(n)
        start_inds = temp_list[:]
    print(output)


if __name__ == "__main__":
    main()
