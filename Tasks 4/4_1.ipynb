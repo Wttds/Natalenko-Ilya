def main():
    number = input()
    if number == number[::-1]:
        print(True)


if __name__ == "__main__":
    main()
