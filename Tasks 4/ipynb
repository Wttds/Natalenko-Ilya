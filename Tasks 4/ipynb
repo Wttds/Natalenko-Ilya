number = int(input())
if -2 ** 7 < number < 2 ** 7 - 1:
    if number % 100 == 0:
        number //= 100
    if number % 10 == 0:
        number //= 10
    if number >= 0:
        print(str(number)[::-1])
    else:
        print('-' + str(abs(number))[::-1])
else:
    print("no solution")
