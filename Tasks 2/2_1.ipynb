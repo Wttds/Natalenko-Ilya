def f():
    string = input()
    current, maxlen = '', ''
    for i in range(len(string)):
        if string[i] not in current:
            current += string[i]
        else:
            if len(current) > len(maxlen):
                maxlen, current = current, string[i]
    print(maxlen)


if __name__ == "__main__":
    f()
