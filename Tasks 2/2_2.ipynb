string = input().strip()
new_string = string[0]
for i in range(1, len(string)):
    if string[i] == ' ' and string[i - 1] == ' ':
        continue
    else:
        new_string += string[i]
print(' '.join(new_string.split()[::-1]).capitalize())
