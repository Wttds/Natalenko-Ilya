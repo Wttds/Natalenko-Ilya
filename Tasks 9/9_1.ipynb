{
 "cells": [
  {
   "cell_type": "code",
   "execution_count": null,
   "metadata": {},
   "outputs": [],
   "source": [
    "def main():\n",
    "    array = eval(input())\n",
    "    # [[\"name1 surname1\", 12345], [\"name2 surname2\"], [\"name3 surname3\", 21345], [\"name4 surname4\", 41325]]\n",
    "\n",
    "    def santa_users(massive):\n",
    "        dictionary = {}\n",
    "        for pos in massive:\n",
    "            if len(pos) == 2:\n",
    "                dictionary[pos[0]] = pos[1]\n",
    "            else:\n",
    "                dictionary[pos[0]] = None\n",
    "        return dictionary\n",
    "\n",
    "    print(santa_users(array))\n",
    "\n",
    "\n",
    "if __name__ == \"__main__\":\n",
    "    main()"
   ]
  }
 ],
 "metadata": {
  "language_info": {
   "name": "python"
  },
  "orig_nbformat": 4
 },
 "nbformat": 4,
 "nbformat_minor": 2
}
