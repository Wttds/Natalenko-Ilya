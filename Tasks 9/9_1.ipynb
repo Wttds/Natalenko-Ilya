def main():
    array = [
        ["name1 surname1", 12345],
        ["name2 surname2"],
        ["name3 surname3", 21345],
        ["name4", "surname4", 41325]
    ]


    def santa_users(massive):
        dictionary = {}
        for pos in massive:
            if len(pos) == 2:
                dictionary[pos[0]] = pos[1]
            else:
                dictionary[pos[0]] = None
        return dictionary


    print(santa_users(array))


if __name__ == "__main__":
    main()
