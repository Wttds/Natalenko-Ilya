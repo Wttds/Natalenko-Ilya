def main():
    letters = {"I": 1, "V": 5, "X": 10, "L": 50, "C": 100, "D": 500, "M": 1000}
    roman = input()
    summary = letters[roman[0]]
    for i in range(1, len(roman)):
        if (roman[i] == "V" or roman[i] == "X") and roman[i - 1] == "I" or \
                (roman[i] == "L" or roman[i] == "C") and roman[i - 1] == "X" or \
                (roman[i] == "D" or roman[i] == "M") and roman[i - 1] == "C":
            summary = summary + letters[roman[i]] - 2 * letters[roman[i - 1]]
        else:
            summary += letters[roman[i]]
    return summary


if __name__ == "__main__":
    print(main())
