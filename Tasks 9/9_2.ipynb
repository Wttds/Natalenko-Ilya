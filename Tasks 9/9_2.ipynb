{
 "cells": [
  {
   "cell_type": "code",
   "execution_count": null,
   "metadata": {},
   "outputs": [],
   "source": [
    "def main():\n",
    "    letters = {\"I\": 1, \"V\": 5, \"X\": 10, \"L\": 50, \"C\": 100, \"D\": 500, \"M\": 1000}\n",
    "    roman = input()\n",
    "    summary = letters[roman[0]]\n",
    "    for i in range(1, len(roman)):\n",
    "        if (roman[i] == \"V\" or roman[i] == \"X\") and roman[i - 1] == \"I\" or \\\n",
    "                (roman[i] == \"L\" or roman[i] == \"C\") and roman[i - 1] == \"X\" or \\\n",
    "                (roman[i] == \"D\" or roman[i] == \"M\") and roman[i - 1] == \"C\":\n",
    "            summary = summary + letters[roman[i]] - 2 * letters[roman[i - 1]]\n",
    "        else:\n",
    "            summary += letters[roman[i]]\n",
    "    return summary\n",
    "\n",
    "\n",
    "if __name__ == \"__main__\":\n",
    "    print(main())"
   ]
  }
 ],
 "metadata": {
  "language_info": {
   "name": "python"
  },
  "orig_nbformat": 4
 },
 "nbformat": 4,
 "nbformat_minor": 2
}
