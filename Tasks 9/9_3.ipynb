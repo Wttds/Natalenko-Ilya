{
 "cells": [
  {
   "cell_type": "code",
   "execution_count": null,
   "metadata": {},
   "outputs": [],
   "source": [
    "def main():\n",
    "    def get_pins(code):\n",
    "        dictionary = {\"1\": [\"1\", \"2\", \"4\"],\n",
    "                      \"2\": [\"1\", \"2\", \"3\", \"5\"],\n",
    "                      \"3\": [\"2\", \"3\", \"6\"],\n",
    "                      \"4\": [\"1\", \"4\", \"5\"],\n",
    "                      \"5\": [\"2\", \"4\", \"5\", \"6\", \"8\"],\n",
    "                      \"6\": [\"3\", \"5\", \"6\", \"9\"],\n",
    "                      \"7\": [\"4\", \"7\", \"8\"],\n",
    "                      \"8\": [\"5\", \"7\", \"8\", \"9\", \"0\"],\n",
    "                      \"9\": [\"6\", \"8\", \"9\"],\n",
    "                      \"0\": [\"8\", \"0\"]}\n",
    "        output = []\n",
    "        for v in range(int(\"1\" + \"0\" * len(code))):\n",
    "            model = \"0\" * (len(code) - len(str(v))) + str(v)\n",
    "            is_variant = True\n",
    "            for digit in range(len(model)):\n",
    "                if model[digit] not in dictionary[code[digit]]:\n",
    "                    is_variant = False\n",
    "            if is_variant:\n",
    "                output.append(model)\n",
    "        print(output)\n",
    "    get_pins(input())\n",
    "\n",
    "\n",
    "if __name__ == \"__main__\":\n",
    "    main()"
   ]
  }
 ],
 "metadata": {
  "kernelspec": {
   "display_name": "Python 3",
   "language": "python",
   "name": "python3"
  },
  "language_info": {
   "name": "python",
   "version": "3.8.5 (tags/v3.8.5:580fbb0, Jul 20 2020, 15:43:08) [MSC v.1926 32 bit (Intel)]"
  },
  "orig_nbformat": 4,
  "vscode": {
   "interpreter": {
    "hash": "fd86f4a68d20d86dfc27505d8d4d1402f343a263f027f15df3b495dbc5bd8339"
   }
  }
 },
 "nbformat": 4,
 "nbformat_minor": 2
}
