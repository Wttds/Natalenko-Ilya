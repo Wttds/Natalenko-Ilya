{
 "cells": [
  {
   "cell_type": "code",
   "execution_count": null,
   "metadata": {},
   "outputs": [],
   "source": [
    "def main():\n",
    "    arr = list(set(eval(input())))\n",
    "    output = list()\n",
    "    for i in range(1, 2 ** len(arr)):\n",
    "        temp_list = list()\n",
    "        binary = (len(arr) - len(str(format(i, \"b\")))) * \"0\" + str(format(i, \"b\"))\n",
    "        for digit in range(len(binary)):\n",
    "            if binary[digit] == \"1\":\n",
    "                temp_list.append(arr[digit])\n",
    "        output.append(temp_list)\n",
    "    output = list(map(set, sorted(output, key=len, reverse=True)[::-1]))\n",
    "    print(\"Подмножества:\", end=\"{\")\n",
    "    print(*output, sep=\", \", end=\"}\\n\")\n",
    "    print(f\"Количество подмножеств: {len(output)}\")\n",
    "\n",
    "\n",
    "if __name__ == \"__main__\":\n",
    "    main()"
   ]
  }
 ],
 "metadata": {
  "kernelspec": {
   "display_name": "Python 3",
   "language": "python",
   "name": "python3"
  },
  "language_info": {
   "name": "python",
   "version": "3.8.5 (tags/v3.8.5:580fbb0, Jul 20 2020, 15:43:08) [MSC v.1926 32 bit (Intel)]"
  },
  "orig_nbformat": 4,
  "vscode": {
   "interpreter": {
    "hash": "fd86f4a68d20d86dfc27505d8d4d1402f343a263f027f15df3b495dbc5bd8339"
   }
  }
 },
 "nbformat": 4,
 "nbformat_minor": 2
}
