{
 "cells": [
  {
   "cell_type": "code",
   "execution_count": null,
   "metadata": {},
   "outputs": [],
   "source": [
    "def f(list1, list2):                    #Пока не исправлена\n",
    "    set1, set2 = set(list1), set(list2)\n",
    "    return *set1.intersection(set2), *set1.symmetric_difference(set2), *set1 - set2, *set2 - set1\n",
    "\n",
    "\n",
    "if __name__ == \"__main__\":\n",
    "    print(f([1, 9, 5, 7, 8], [8, 7, 3, 4, 2]))"
   ]
  }
 ],
 "metadata": {
  "language_info": {
   "name": "python"
  },
  "orig_nbformat": 4
 },
 "nbformat": 4,
 "nbformat_minor": 2
}
