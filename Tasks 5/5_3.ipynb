{
 "cells": [
  {
   "cell_type": "code",
   "execution_count": null,
   "metadata": {},
   "outputs": [],
   "source": [
    "def main():\n",
    "    def leave_only_non_paired(line):\n",
    "        while '()' in line or '[]' in line or '{}' in line:\n",
    "            line = line.replace('()', '')\n",
    "            line = line.replace('[]', '')\n",
    "            line = line.replace('{}', '')\n",
    "        if not line:\n",
    "            return True\n",
    "        else:\n",
    "            return False\n",
    "\n",
    "    string = input()    # {[()]{[()]}}\n",
    "    # opening, closing, correct_brackets = \"([{\", \")]}\", [\"()\", \"[]\", \"{}\"]\n",
    "    index, the_longest_correct = 0, \"\"\n",
    "    for start_ind in range(len(string) + 1):\n",
    "        for end_ind in range(len(string) + 1):\n",
    "            if start_ind < end_ind and\\\n",
    "                    leave_only_non_paired(string[start_ind:end_ind]) and\\\n",
    "                    len(string[start_ind:end_ind]) > len(the_longest_correct):\n",
    "                the_longest_correct = string[start_ind:end_ind]\n",
    "    if the_longest_correct == string:\n",
    "        print(True)\n",
    "    elif the_longest_correct:\n",
    "        print(the_longest_correct)\n",
    "    else:\n",
    "        print(False)\n",
    "\n",
    "\n",
    "if __name__ == \"__main__\":\n",
    "    main()"
   ]
  }
 ],
 "metadata": {
  "language_info": {
   "name": "python"
  },
  "orig_nbformat": 4
 },
 "nbformat": 4,
 "nbformat_minor": 2
}
