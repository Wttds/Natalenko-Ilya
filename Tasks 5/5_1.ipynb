{
 "cells": [
  {
   "cell_type": "code",
   "execution_count": null,
   "metadata": {},
   "outputs": [],
   "source": [
    "def main():\n",
    "    string = input()\n",
    "    unique_letters = ''\n",
    "    max_str = ''\n",
    "    for i in range(len(string)):\n",
    "        if string[i] not in unique_letters:\n",
    "            unique_letters += string[i]\n",
    "        else:\n",
    "            if len(unique_letters) > len(max_str):\n",
    "                max_str = unique_letters\n",
    "            unique_letters = string[i]\n",
    "    print(max_str)\n",
    "\n",
    "\n",
    "if __name__ == \"__main__\":\n",
    "    main()"
   ]
  }
 ],
 "metadata": {
  "language_info": {
   "name": "python"
  },
  "orig_nbformat": 4
 },
 "nbformat": 4,
 "nbformat_minor": 2
}
