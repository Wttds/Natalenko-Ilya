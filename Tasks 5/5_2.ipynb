def main():
    arr = list(filter(lambda x: x, input().strip().split()))[::-1]
    print(' '.join(arr).capitalize())
    
    
if __name__ == "__main__":
    main()
