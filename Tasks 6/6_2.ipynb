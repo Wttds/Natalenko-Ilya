from itertools import permutations


def main():
    def unique_elements(massive):
        return len(set(massive)) == len(massive)

    arr = list(map(str, eval(input())))
    string = ''.join(arr)
    print(list(map(list, list(permutations(string, len(arr))))))


if __name__ == '__main__':
    main()
