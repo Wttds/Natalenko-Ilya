{
 "cells": [
  {
   "cell_type": "code",
   "execution_count": null,
   "metadata": {},
   "outputs": [],
   "source": [
    "def main():\n",
    "    number = int(input())\n",
    "    bin_nums = []\n",
    "    for i in range(2 ** number):\n",
    "        binary = format(i, \"b\")\n",
    "        while len(binary) < number:\n",
    "            binary = '0' + binary\n",
    "        if binary.count('1') == 4:\n",
    "            bin_nums.append(binary)\n",
    "    print(bin_nums)\n",
    "\n",
    "    arr = eval(input())\n",
    "    aim = int(input())\n",
    "    closest = None\n",
    "    closest_arr = []\n",
    "    for comb in bin_nums:\n",
    "        summary, temp = 0, []\n",
    "        for d in range(number):\n",
    "            if comb[d] == '1':\n",
    "                summary += arr[d]\n",
    "                temp.append(arr[d])\n",
    "        if not closest:\n",
    "            closest, closest_arr = abs(aim - summary), temp[:]\n",
    "        else:\n",
    "            distance = abs(aim - summary)\n",
    "            if distance < closest:\n",
    "                closest, closest_arr = distance, temp[:]\n",
    "    print(closest_arr, sum(closest_arr), sep='\\n')\n",
    "\n",
    "\n",
    "if __name__ == \"__main__\":\n",
    "    main()"
   ]
  }
 ],
 "metadata": {
  "language_info": {
   "name": "python"
  },
  "orig_nbformat": 4
 },
 "nbformat": 4,
 "nbformat_minor": 2
}
