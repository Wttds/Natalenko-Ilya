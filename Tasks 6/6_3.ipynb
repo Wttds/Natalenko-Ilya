{
 "cells": [
  {
   "cell_type": "code",
   "execution_count": null,
   "metadata": {},
   "outputs": [],
   "source": [
    "from itertools import permutations\n",
    "\n",
    "\n",
    "def main():\n",
    "    items, output = eval(input()), []\n",
    "    for item in items:\n",
    "        marker = False\n",
    "        for array in output:\n",
    "            for variant in permutations(array[0]):\n",
    "                variant = ''.join(list(variant))\n",
    "                if item in variant and len(item) == len(array[0]):\n",
    "                    marker = True\n",
    "                    array.append(item)\n",
    "                    break\n",
    "        if not marker:\n",
    "            output.append([item])\n",
    "    print(output)\n",
    "\n",
    "\n",
    "if __name__ == \"__main__\":\n",
    "    main()"
   ]
  }
 ],
 "metadata": {
  "kernelspec": {
   "display_name": "Python 3",
   "language": "python",
   "name": "python3"
  },
  "language_info": {
   "name": "python",
   "version": "3.8.5 (tags/v3.8.5:580fbb0, Jul 20 2020, 15:43:08) [MSC v.1926 32 bit (Intel)]"
  },
  "orig_nbformat": 4,
  "vscode": {
   "interpreter": {
    "hash": "fd86f4a68d20d86dfc27505d8d4d1402f343a263f027f15df3b495dbc5bd8339"
   }
  }
 },
 "nbformat": 4,
 "nbformat_minor": 2
}
