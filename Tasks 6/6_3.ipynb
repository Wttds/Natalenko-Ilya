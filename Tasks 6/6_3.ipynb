{
 "cells": [
  {
   "cell_type": "code",
   "execution_count": null,
   "metadata": {},
   "outputs": [],
   "source": [
    "from itertools import permutations\n",
    "\n",
    "\n",
    "def main():\n",
    "    items, output = eval(input()), []\n",
    "    for item in items:\n",
    "        marker = False\n",
    "        for array in output:\n",
    "            for variant in permutations(array[0]):\n",
    "                variant = ''.join(list(variant))\n",
    "                if item in variant and len(item) == len(array[0]):\n",
    "                    marker = True\n",
    "                    array.append(item)\n",
    "                    break\n",
    "        if not marker:\n",
    "            output.append([item])\n",
    "    print(output)\n",
    "\n",
    "\n",
    "if __name__ == \"__main__\":\n",
    "    main()"
   ]
  }
 ],
 "metadata": {
  "language_info": {
   "name": "python"
  },
  "orig_nbformat": 4
 },
 "nbformat": 4,
 "nbformat_minor": 2
}
