{
 "cells": [
  {
   "cell_type": "code",
   "execution_count": null,
   "metadata": {},
   "outputs": [],
   "source": [
    "def main():\n",
    "    string = open(\"input.txt\").read().rstrip()\n",
    "    output = open(\"output.txt\", \"w\")\n",
    "    n, array, s = int(string.split()[0]), string.split()[1:-1], int(string.split()[-1])\n",
    "    b_num = 2 ** (n - 1)\n",
    "\n",
    "    # Функция: принимает список чисел и число, по которому составляется байтовая строка binary. Счёт от 10000000.\n",
    "    # 1 означает сложение, 0 - вычитание. Таким образом перебираются все варианты комбинирования знаков.\n",
    "\n",
    "    def signs(nums, byte_number):\n",
    "        binary = str(format(byte_number, \"b\"))\n",
    "        if binary == str(format(2 ** n, \"b\")):                          # Базовый случай: ни одно решение не подходит\n",
    "            output.write(\"no solution\")\n",
    "        else:\n",
    "            summary, str_result = 0, \"\"                                 # Сумма чисел и строка, куда пишется выражение\n",
    "            for i in range(len(nums)):\n",
    "                if binary[i] == \"1\":\n",
    "                    summary += int(nums[i])\n",
    "                    str_result += \"+\" + str(nums[i])\n",
    "                else:\n",
    "                    summary -= int(nums[i])\n",
    "                    str_result += \"-\" + str(nums[i])\n",
    "            if summary == s:                                            # Базовый случай: решение найдено\n",
    "                str_result = str_result[1:] + \"=\" + str(s)\n",
    "                return str_result\n",
    "            else:\n",
    "                return signs(nums, byte_number + 1)                     # Рекурсия\n",
    "    output.write(signs(array, b_num))\n",
    "\n",
    "\n",
    "if __name__ == \"__main__\":\n",
    "    main()"
   ]
  },
  {
   "cell_type": "markdown",
   "metadata": {},
   "source": [
    "Функция signs принимает список чисел и число, превращаемое внутри неё в строку с нулями и единицами. Изначально оно равно единице с n - 1 нулями. По этой строке к summary прибавляется/вычитается число из списка в зависимости от того, стоит в строке единица или ноль. Функция вызвает саму себя с увеличением \"байтового числа\", таким образом перебираются все комбинации знаков. Если \"байтовое число\" в виде строки превысило n знаков, функция выдаёт no solution.\n",
    "Собственные примеры:\n",
    "\n",
    "Input:\n",
    "4 2 3 4 1 2\n",
    "\n",
    "Output:\n",
    "2-3+4-1=2\n",
    "\n",
    "Input:\n",
    "5 2 3 4 6 2 -3\n",
    "\n",
    "Output:\n",
    "2+3-4-6+2=-3\n",
    "\n",
    "Input:\n",
    "5 2 3 4 6 1 -3\n",
    "\n",
    "Output:\n",
    "no solution"
   ]
  }
 ],
 "metadata": {
  "kernelspec": {
   "display_name": "Python 3",
   "language": "python",
   "name": "python3"
  },
  "language_info": {
   "name": "python",
   "version": "3.8.5 (tags/v3.8.5:580fbb0, Jul 20 2020, 15:43:08) [MSC v.1926 32 bit (Intel)]"
  },
  "orig_nbformat": 4,
  "vscode": {
   "interpreter": {
    "hash": "fd86f4a68d20d86dfc27505d8d4d1402f343a263f027f15df3b495dbc5bd8339"
   }
  }
 },
 "nbformat": 4,
 "nbformat_minor": 2
}
