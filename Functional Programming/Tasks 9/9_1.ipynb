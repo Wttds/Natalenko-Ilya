{
 "cells": [
  {
   "cell_type": "code",
   "execution_count": null,
   "metadata": {},
   "outputs": [],
   "source": [
    "def main():\n",
    "    array = eval(input())\n",
    "    # [[\"name1 surname1\", 12345], [\"name2 surname2\"], [\"name3 surname3\", 21345], [\"name4 surname4\", 41325]]\n",
    "\n",
    "    def santa_users(massive):\n",
    "        dictionary = {}\n",
    "        for pos in massive:\n",
    "            if len(pos) == 2:\n",
    "                dictionary[pos[0]] = pos[1]\n",
    "            else:\n",
    "                dictionary[pos[0]] = None\n",
    "        return dictionary\n",
    "\n",
    "    print(santa_users(array))\n",
    "\n",
    "\n",
    "if __name__ == \"__main__\":\n",
    "    main()"
   ]
  }
 ],
 "metadata": {
  "kernelspec": {
   "display_name": "Python 3",
   "language": "python",
   "name": "python3"
  },
  "language_info": {
   "name": "python",
   "version": "3.8.5 (tags/v3.8.5:580fbb0, Jul 20 2020, 15:43:08) [MSC v.1926 32 bit (Intel)]"
  },
  "orig_nbformat": 4,
  "vscode": {
   "interpreter": {
    "hash": "fd86f4a68d20d86dfc27505d8d4d1402f343a263f027f15df3b495dbc5bd8339"
   }
  }
 },
 "nbformat": 4,
 "nbformat_minor": 2
}
