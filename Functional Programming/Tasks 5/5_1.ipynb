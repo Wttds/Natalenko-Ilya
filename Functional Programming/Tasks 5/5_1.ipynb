{
 "cells": [
  {
   "cell_type": "code",
   "execution_count": null,
   "metadata": {},
   "outputs": [],
   "source": [
    "def main():\n",
    "    string = input()\n",
    "    max_str = ''\n",
    "    current = ''\n",
    "    for i in range(len(string)):\n",
    "        if string[i] not in current:\n",
    "            current += string[i]\n",
    "            if len(current) > len(max_str):\n",
    "                max_str = current\n",
    "        else:\n",
    "            if current > max_str:\n",
    "                max_str = current\n",
    "            current = current.split(string[i])[1] + string[i]\n",
    "    if len(current) > len(max_str):\n",
    "        max_str = current\n",
    "    print(max_str)\n",
    "\n",
    "\n",
    "if __name__ == \"__main__\":\n",
    "    main()"
   ]
  }
 ],
 "metadata": {
  "kernelspec": {
   "display_name": "Python 3",
   "language": "python",
   "name": "python3"
  },
  "language_info": {
   "name": "python",
   "version": "3.8.5 (tags/v3.8.5:580fbb0, Jul 20 2020, 15:43:08) [MSC v.1926 32 bit (Intel)]"
  },
  "orig_nbformat": 4,
  "vscode": {
   "interpreter": {
    "hash": "fd86f4a68d20d86dfc27505d8d4d1402f343a263f027f15df3b495dbc5bd8339"
   }
  }
 },
 "nbformat": 4,
 "nbformat_minor": 2
}
