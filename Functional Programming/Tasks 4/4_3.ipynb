{
 "cells": [
  {
   "cell_type": "code",
   "execution_count": null,
   "metadata": {},
   "outputs": [],
   "source": [
    "def main():\n",
    "    string = input()\n",
    "    number = int(input())\n",
    "    output = \"\"\n",
    "    differ = (number - 3) * 2 + 4\n",
    "    start_inds = list(filter(lambda x: x % differ == 0, list(range(len(string)))))\n",
    "    added = []\n",
    "    for s in range(number):\n",
    "        for i in range(len(string)):\n",
    "            if i in start_inds and i not in added:\n",
    "                output += string[i]\n",
    "                added.append(i)\n",
    "\n",
    "        temp_list = []\n",
    "        for n in range(len(string)):\n",
    "            if n + 1 in start_inds and n not in added:\n",
    "                temp_list.append(n)\n",
    "            elif n - 1 in start_inds and n not in added:\n",
    "                temp_list.append(n)\n",
    "        start_inds = temp_list[:]\n",
    "    print(output)\n",
    "\n",
    "\n",
    "if __name__ == \"__main__\":\n",
    "    main()"
   ]
  }
 ],
 "metadata": {
  "language_info": {
   "name": "python"
  },
  "orig_nbformat": 4
 },
 "nbformat": 4,
 "nbformat_minor": 2
}
