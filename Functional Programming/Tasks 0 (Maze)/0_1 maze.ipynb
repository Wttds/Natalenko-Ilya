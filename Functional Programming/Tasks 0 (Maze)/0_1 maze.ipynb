{
 "cells": [
  {
   "cell_type": "code",
   "execution_count": null,
   "metadata": {},
   "outputs": [],
   "source": [
    "def main():\n",
    "    maze = [\"# ######\",\n",
    "            \"# # ####\",\n",
    "            \"# #N#  #\",\n",
    "            \"# # # ##\",\n",
    "            \"# # # ##\",\n",
    "            \"#      #\",\n",
    "            \"########\"]\n",
    "\n",
    "    # Определение начала, видоизменение лабиринта и проверка на наличие второй Нуры. ||||||||||||||||||||||||||||||||||\n",
    "\n",
    "    start = []\n",
    "    for x, r in enumerate(maze):\n",
    "        maze[x], line = [], maze[x]\n",
    "        maze[x].extend(line.replace(' ', '0'))\n",
    "        for y, c in enumerate(r):\n",
    "            if c == 'N':\n",
    "                start.append((x, y))\n",
    "            if len(start) > 1:\n",
    "                raise Exception(\"More Nooras than one.\")\n",
    "    maze[start[0][0]][start[0][1]] = \"1\"\n",
    "\n",
    "    # Рекурсивная функция: проходит лабиринт, \"затопляя\" проходы. |||||||||||||||||||||||||||||||||||||||||||||||||||||\n",
    "\n",
    "    def flood(k):\n",
    "        exit = False\n",
    "        space_to_go = False\n",
    "        for i in range(len(maze)):\n",
    "            for j in range(len(maze[i])):\n",
    "                if maze[i][j] == str(k):\n",
    "                    if i - 1 >= 0 and maze[i - 1][j] == '0':            # Можно ли пойти вверх\n",
    "                        maze[i - 1][j], space_to_go = str(k + 1), True\n",
    "                        if i - 1 == 0:\n",
    "                            exit = True\n",
    "                            break\n",
    "                    if j - 1 >= 0 and maze[i][j - 1] == '0':            # Можно ли пойти влево\n",
    "                        maze[i][j - 1], space_to_go = str(k + 1), True\n",
    "                        if j - 1 == 0:\n",
    "                            exit = True\n",
    "                            break\n",
    "                    if i + 1 < len(maze) and maze[i + 1][j] == '0':     # Можно ли пойти вниз\n",
    "                        maze[i + 1][j], space_to_go = str(k + 1), True\n",
    "                        if i + 1 == len(maze) - 1:\n",
    "                            exit = True\n",
    "                            break\n",
    "                    if j + 1 < len(maze[i]) and maze[i][j + 1] == '0':  # Можно ли пойти вправо\n",
    "                        maze[i][j + 1], space_to_go = str(k + 1), True\n",
    "                        if j + 1 == len(maze[i]) - 1:\n",
    "                            exit = True\n",
    "                            break\n",
    "        if not space_to_go:     # Базовый случай: клетки перестали \"затапливаться\", идти некуда\n",
    "            print(False)\n",
    "        elif not exit:          # Рекурсия: есть куда \"топить\", и выход не найден\n",
    "            flood(k + 1)\n",
    "        else:                   # Базовый случай: выход из лабиринта найден\n",
    "            print(True)\n",
    "\n",
    "    flood(1)\n",
    "\n",
    "\n",
    "if __name__ == \"__main__\":\n",
    "    main()"
   ]
  }
 ],
 "metadata": {
  "kernelspec": {
   "display_name": "Python 3",
   "language": "python",
   "name": "python3"
  },
  "language_info": {
   "name": "python",
   "version": "3.8.5 (tags/v3.8.5:580fbb0, Jul 20 2020, 15:43:08) [MSC v.1926 32 bit (Intel)]"
  },
  "orig_nbformat": 4,
  "vscode": {
   "interpreter": {
    "hash": "fd86f4a68d20d86dfc27505d8d4d1402f343a263f027f15df3b495dbc5bd8339"
   }
  }
 },
 "nbformat": 4,
 "nbformat_minor": 2
}
