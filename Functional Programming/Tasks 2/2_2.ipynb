{
 "cells": [
  {
   "cell_type": "code",
   "execution_count": null,
   "metadata": {},
   "outputs": [],
   "source": [
    "def main():\n",
    "    string = input().strip()\n",
    "    new_string = string[0]\n",
    "    for i in range(1, len(string)):\n",
    "        if string[i] == ' ' and string[i - 1] == ' ':\n",
    "            continue\n",
    "        else:\n",
    "            new_string += string[i]\n",
    "    print(' '.join(new_string.split()[::-1]).capitalize())\n",
    "\n",
    "\n",
    "if __name__ == \"__main__\":\n",
    "    main()"
   ]
  }
 ],
 "metadata": {
  "kernelspec": {
   "display_name": "Python 3.8.5 32-bit",
   "language": "python",
   "name": "python3"
  },
  "language_info": {
   "name": "python",
   "version": "3.8.5"
  },
  "orig_nbformat": 4,
  "vscode": {
   "interpreter": {
    "hash": "fd86f4a68d20d86dfc27505d8d4d1402f343a263f027f15df3b495dbc5bd8339"
   }
  }
 },
 "nbformat": 4,
 "nbformat_minor": 2
}
