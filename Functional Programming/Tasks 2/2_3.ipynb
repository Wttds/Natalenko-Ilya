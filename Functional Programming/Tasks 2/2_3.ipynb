{
 "cells": [
  {
   "cell_type": "code",
   "execution_count": null,
   "metadata": {},
   "outputs": [],
   "source": [
    "def main():\n",
    "    string = input()\n",
    "    open_stack, correct, max_correct = '', '', ''\n",
    "    for i in range(len(string)):\n",
    "        if string[i] in '([{':\n",
    "            open_stack += string[i]\n",
    "            correct += string[i]\n",
    "        else:\n",
    "            if string[i] == \")\":\n",
    "                if open_stack.endswith(\"(\"):\n",
    "                    open_stack = open_stack[:-1]\n",
    "                    correct += string[i]\n",
    "                else:\n",
    "                    if len(correct) > len(max_correct) and \\\n",
    "                            not correct.endswith(\"(\") and \\\n",
    "                            not correct.endswith(\"[\") and \\\n",
    "                            not correct.endswith(\"{\"):\n",
    "                        max_correct = correct\n",
    "                    correct, open_stack = '', ''\n",
    "            if string[i] == \"]\":\n",
    "                if open_stack.endswith(\"[\"):\n",
    "                    open_stack = open_stack[:-1]\n",
    "                    correct += string[i]\n",
    "                else:\n",
    "                    if len(correct) > len(max_correct) and \\\n",
    "                            not correct.endswith(\"(\") and \\\n",
    "                            not correct.endswith(\"[\") and \\\n",
    "                            not correct.endswith(\"{\"):\n",
    "                        max_correct = correct\n",
    "                    correct, open_stack = '', ''\n",
    "            if string[i] == \"}\":\n",
    "                if open_stack.endswith(\"{\"):\n",
    "                    open_stack = open_stack[:-1]\n",
    "                    correct += string[i]\n",
    "                else:\n",
    "                    if len(correct) > len(max_correct) and \\\n",
    "                            not correct.endswith(\"(\") and \\\n",
    "                            not correct.endswith(\"[\") and \\\n",
    "                            not correct.endswith(\"{\"):\n",
    "                        max_correct = correct\n",
    "                    correct, open_stack = '', ''\n",
    "    if correct and not max_correct:\n",
    "        max_correct = correct\n",
    "    if len(max_correct) == len(string):\n",
    "        print(True)\n",
    "    else:\n",
    "        if max_correct:\n",
    "            print(max_correct)\n",
    "        else:\n",
    "            print(False)\n",
    "\n",
    "\n",
    "if __name__ == \"__main__\":\n",
    "    main()"
   ]
  }
 ],
 "metadata": {
  "kernelspec": {
   "display_name": "Python 3.8.5 32-bit",
   "language": "python",
   "name": "python3"
  },
  "language_info": {
   "name": "python",
   "version": "3.8.5"
  },
  "orig_nbformat": 4,
  "vscode": {
   "interpreter": {
    "hash": "fd86f4a68d20d86dfc27505d8d4d1402f343a263f027f15df3b495dbc5bd8339"
   }
  }
 },
 "nbformat": 4,
 "nbformat_minor": 2
}
