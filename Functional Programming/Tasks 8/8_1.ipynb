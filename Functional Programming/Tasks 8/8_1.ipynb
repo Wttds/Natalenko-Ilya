{
 "cells": [
  {
   "cell_type": "code",
   "execution_count": null,
   "metadata": {},
   "outputs": [],
   "source": [
    "def main():\n",
    "    list1, list2 = [0, 33, 37, 6, 10, 44, 13, 47, 16, 18, 22, 25], [1, 38, 48, 8, 41, 7, 12, 47, 16, 40, 20, 23, 25]\n",
    "    set1, set2 = set(list1), set(list2)\n",
    "    first, second = list(set1 - set2), list(set2 - set1)\n",
    "\n",
    "    print(f\"1) {len(set1.intersection(set2))}\",\n",
    "          f\"2) {len(set1 - set2) + len(set2 - set1)}\",\n",
    "          f\"3) {len(set1 - set2)}\",\n",
    "          f\"4) {len(set2 - set1)}\", sep=\"\\n\")\n",
    "\n",
    "\n",
    "if __name__ == \"__main__\":\n",
    "    main()"
   ]
  }
 ],
 "metadata": {
  "language_info": {
   "name": "python"
  },
  "orig_nbformat": 4
 },
 "nbformat": 4,
 "nbformat_minor": 2
}
