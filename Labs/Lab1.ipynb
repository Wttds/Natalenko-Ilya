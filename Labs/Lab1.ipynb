{
 "cells": [
  {
   "cell_type": "code",
   "execution_count": null,
   "metadata": {},
   "outputs": [],
   "source": [
    "def main():\n",
    "    string = open(\"in.txt\").read().rstrip()\n",
    "    n, array, s = int(string.split()[0]), string.split()[1:-1], int(string.split()[-1])\n",
    "    b_num = 2 ** (n - 1)\n",
    "\n",
    "    def signs(nums, byte_number):\n",
    "        binary = str(format(byte_number, \"b\"))\n",
    "        if binary == str(format(2 ** n, \"b\")):\n",
    "            return \"no solution\"\n",
    "        else:\n",
    "            summary, str_result = 0, \"\"\n",
    "            for i in range(len(nums)):\n",
    "                if binary[i] == \"1\":\n",
    "                    summary += int(nums[i])\n",
    "                    str_result += \"+\" + str(nums[i])\n",
    "                else:\n",
    "                    summary -= int(nums[i])\n",
    "                    str_result += \"-\" + str(nums[i])\n",
    "            if summary == s:\n",
    "                str_result = str_result[1:] + \"=\" + str(s)\n",
    "                return str_result\n",
    "            else:\n",
    "                return signs(nums, byte_number + 1)\n",
    "\n",
    "    print(signs(array, b_num))\n",
    "\n",
    "\n",
    "if __name__ == \"__main__\":\n",
    "    main()"
   ]
  },
  {
   "cell_type": "markdown",
   "metadata": {},
   "source": [
    "Функция signs принимает список чисел и число, превращаемое внутри неё в строку с нулями и единицами. Изначально оно равно единице с n - 1 нулями. По этой строке к summary прибавляется/вычитается число из списка в зависимости от того, стоит в строке единица или ноль. Функция вызвает саму себя с увеличением \"байтового числа\", таким образом перебираются все комбинации знаков. Если \"байтовое число\" в виде строки превысило n знаков, функция выдаёт no solution.\n",
    "Собственные примеры:\n",
    "\n",
    "Input:\n",
    "4 2 3 4 1 2\n",
    "\n",
    "Output:\n",
    "2-3+4-1=2\n",
    "\n",
    "Input:\n",
    "5 2 3 4 6 2 -3\n",
    "\n",
    "Output:\n",
    "2+3-4-6+2=-3\n",
    "\n",
    "Input:\n",
    "5 2 3 4 6 1 -3\n",
    "\n",
    "Output:\n",
    "no solution"
   ]
  }
 ],
 "metadata": {
  "language_info": {
   "name": "python"
  },
  "orig_nbformat": 4
 },
 "nbformat": 4,
 "nbformat_minor": 2
}
