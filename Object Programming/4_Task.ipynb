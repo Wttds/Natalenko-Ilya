{
 "cells": [
  {
   "cell_type": "code",
   "execution_count": null,
   "metadata": {},
   "outputs": [],
   "source": [
    "class Router:\n",
    "    def __init__(self):\n",
    "        self.buffer = []\n",
    "        self.connected = {}\n",
    "\n",
    "    def link(self, server):\n",
    "        self.connected[server.ip] = server\n",
    "\n",
    "    def unlink(self, server):\n",
    "        del self.connected[server.ip]\n",
    "\n",
    "    def send_data(self, *servers_ip):\n",
    "        for s in self.connected:\n",
    "            if s in servers_ip:\n",
    "                self.connected[s].get_data()\n",
    "\n",
    "\n",
    "ip_list = [1]\n",
    "\n",
    "\n",
    "class Server:\n",
    "    def __init__(self):\n",
    "        self.ip = ip_list[-1]\n",
    "        ip_list.append(ip_list[-1] + 1)\n",
    "\n",
    "    def send_data(self, data):\n",
    "        router.buffer = data\n",
    "\n",
    "    def get_data(self):\n",
    "        yield router.buffer\n",
    "        router.buffer.clear()\n",
    "\n",
    "    def get_ip(self):\n",
    "        return self.ip\n",
    "\n",
    "\n",
    "class Data:\n",
    "    def __init__(self, data, ip):\n",
    "        self.data = data\n",
    "        self.ip = ip"
   ]
  }
 ],
 "metadata": {
  "language_info": {
   "name": "python"
  },
  "orig_nbformat": 4
 },
 "nbformat": 4,
 "nbformat_minor": 2
}
