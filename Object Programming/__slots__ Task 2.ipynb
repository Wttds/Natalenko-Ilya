{
 "cells": [
  {
   "cell_type": "code",
   "execution_count": 1,
   "metadata": {},
   "outputs": [
    {
     "ename": "TypeError",
     "evalue": "'Notes' object is not subscriptable",
     "output_type": "error",
     "traceback": [
      "\u001b[1;31m---------------------------------------------------------------------------\u001b[0m",
      "\u001b[1;31mTypeError\u001b[0m                                 Traceback (most recent call last)",
      "Cell \u001b[1;32mIn[1], line 39\u001b[0m\n\u001b[0;32m     36\u001b[0m         \u001b[39mreturn\u001b[39;00m all_notes[indx]\n\u001b[0;32m     38\u001b[0m notes \u001b[39m=\u001b[39m Notes()\n\u001b[1;32m---> 39\u001b[0m notes[\u001b[39m1\u001b[39;49m]\u001b[39m.\u001b[39m_ton \u001b[39m=\u001b[39m \u001b[39m1\u001b[39m\n",
      "\u001b[1;31mTypeError\u001b[0m: 'Notes' object is not subscriptable"
     ]
    }
   ],
   "source": [
    "class Note:\n",
    "    def init(self, name, ton):\n",
    "        assert name in {\"до\", \"ре\", \"ми\", \"фа\", \"соль\", \"ля\", \"си\"} and \\\n",
    "            ton in {-1, 0, 1}, ValueError('недопустимое значение аргумента')\n",
    "        self._name = name\n",
    "        self._ton = ton\n",
    "\n",
    "class Notes:\n",
    "    slots = [\"_do\", \"_re\", \"_mi\", \"_fa\", \"_solt\", \"_la\", \"_si\"]\n",
    "    \n",
    "    def init(self):\n",
    "        self._do = Note(\"до\", 0)\n",
    "        self._re = Note(\"ре\", 0)\n",
    "        self._mi = Note(\"ми\", 0)\n",
    "        self._fa = Note(\"фа\", 0)\n",
    "        self._solt = Note(\"соль\", 0)\n",
    "        self._la = Note(\"ля\", 0)\n",
    "        self._si = Note(\"си\", 0)\n",
    "    \n",
    "    def new(cls):\n",
    "        if not hasattr(cls, 'instance'):\n",
    "            cls.instance = super(Notes, cls).new(cls)\n",
    "        return cls.instance\n",
    "    \n",
    "    def setattr(self, key, value): # когда атрибуту пытаемся присвоить значение\n",
    "        self.available_values = {\"до\", \"ре\", \"ми\", \"фа\", \"соль\", \"ля\", \"си\"}\n",
    "        if key == '_name' and value not in self._available_values:\n",
    "            raise ValueError('недопустимое значение аргумента')\n",
    "        if key == '_ton' and value not in [-1, 0, 1]:\n",
    "            raise ValueError('недопустимое значение аргумента')\n",
    "        object.setattr(self, key, value)\n",
    "    \n",
    "    def getitem(self, indx):\n",
    "        assert indx in {0, 1, 2, 3, 4, 5, 6}, IndexError('недопустимый индекс')\n",
    "        all_notes = [self._do, self._re, self._mi, self._fa, self._solt, self._la, self._si]\n",
    "        return all_notes[indx]\n",
    "\n",
    "notes = Notes()\n",
    "notes[1]._ton = 1"
   ]
  }
 ],
 "metadata": {
  "kernelspec": {
   "display_name": "Python 3",
   "language": "python",
   "name": "python3"
  },
  "language_info": {
   "codemirror_mode": {
    "name": "ipython",
    "version": 3
   },
   "file_extension": ".py",
   "mimetype": "text/x-python",
   "name": "python",
   "nbconvert_exporter": "python",
   "pygments_lexer": "ipython3",
   "version": "3.8.5"
  },
  "orig_nbformat": 4
 },
 "nbformat": 4,
 "nbformat_minor": 2
}
