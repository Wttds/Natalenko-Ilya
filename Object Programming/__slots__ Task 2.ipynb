{
 "cells": [
  {
   "cell_type": "code",
   "execution_count": null,
   "metadata": {},
   "outputs": [],
   "source": [
    "class Note:\n",
    "    def init(self, name, ton):\n",
    "        assert name in {\"до\", \"ре\", \"ми\", \"фа\", \"соль\", \"ля\", \"си\"} and \\\n",
    "            ton in {-1, 0, 1}, ValueError('недопустимое значение аргумента')\n",
    "        self._name = name\n",
    "        self._ton = ton\n",
    "\n",
    "class Notes:\n",
    "    slots = [\"_do\", \"_re\", \"_mi\", \"_fa\", \"_solt\", \"_la\", \"_si\"]\n",
    "    \n",
    "    def init(self):\n",
    "        self._do = Note(\"до\", 0)\n",
    "        self._re = Note(\"ре\", 0)\n",
    "        self._mi = Note(\"ми\", 0)\n",
    "        self._fa = Note(\"фа\", 0)\n",
    "        self._solt = Note(\"соль\", 0)\n",
    "        self._la = Note(\"ля\", 0)\n",
    "        self._si = Note(\"си\", 0)\n",
    "    \n",
    "    def new(cls):\n",
    "        if not hasattr(cls, 'instance'):\n",
    "            cls.instance = super(Notes, cls).new(cls)\n",
    "        return cls.instance\n",
    "    \n",
    "    def setattr(self, key, value): # когда атрибуту пытаемся присвоить значение\n",
    "        self.available_values = {\"до\", \"ре\", \"ми\", \"фа\", \"соль\", \"ля\", \"си\"}\n",
    "        if key == '_name' and value not in self._available_values:\n",
    "            raise ValueError('недопустимое значение аргумента')\n",
    "        if key == '_ton' and value not in [-1, 0, 1]:\n",
    "            raise ValueError('недопустимое значение аргумента')\n",
    "        object.setattr(self, key, value)\n",
    "    \n",
    "    def getitem(self, indx):\n",
    "        assert indx in {0, 1, 2, 3, 4, 5, 6}, IndexError('недопустимый индекс')\n",
    "        all_notes = [self._do, self._re, self._mi, self._fa, self._solt, self._la, self._si]\n",
    "        return all_notes[indx]\n",
    "\n",
    "notes = Notes()\n",
    "notes[1]._ton = 1"
   ]
  }
 ],
 "metadata": {
  "language_info": {
   "name": "python"
  },
  "orig_nbformat": 4
 },
 "nbformat": 4,
 "nbformat_minor": 2
}
